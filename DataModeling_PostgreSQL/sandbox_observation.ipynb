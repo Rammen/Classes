{
 "cells": [
  {
   "cell_type": "markdown",
   "id": "ded18209",
   "metadata": {},
   "source": [
    "# Sandbox Obeservation\n",
    "I used this file on-and-off to observed how the data was stored and if there was doublon, etc. "
   ]
  },
  {
   "cell_type": "code",
   "execution_count": null,
   "id": "9cd11632",
   "metadata": {},
   "outputs": [],
   "source": [
    "import pandas as pd\n",
    "import os\n",
    "import glob"
   ]
  },
  {
   "cell_type": "markdown",
   "id": "56fb2691",
   "metadata": {},
   "source": [
    "## Song_Data"
   ]
  },
  {
   "cell_type": "code",
   "execution_count": null,
   "id": "2327f89d",
   "metadata": {},
   "outputs": [],
   "source": [
    "# Load all data from to sond_data to explore duplicate ID\n",
    "\n",
    "main_df = pd.DataFrame()\n",
    "for root, dirs, files in os.walk('./data/song_data/'):\n",
    "    files = glob.glob(os.path.join(root,'*.json'))\n",
    "    for f in files :\n",
    "        df = pd.read_json(os.path.abspath(f), lines=True)\n",
    "        main_df = main_df.append(df)\n",
    "\n",
    "# Is there any artist that are in the database twice?\n",
    "d=main_df.groupby(['artist_id']).count().reset_index()\n",
    "d=d.loc[d['artist_name']>1]\n",
    "\n",
    "d"
   ]
  },
  {
   "cell_type": "code",
   "execution_count": null,
   "id": "31a676a8",
   "metadata": {},
   "outputs": [],
   "source": [
    "# Exemple of duplicate:\n",
    "main_df.loc[main_df['artist_id']=='ARD7TVE1187B99BFB1']"
   ]
  },
  {
   "cell_type": "code",
   "execution_count": null,
   "id": "aba62a1d",
   "metadata": {
    "scrolled": true
   },
   "outputs": [],
   "source": [
    "# Looking at an exemple of data log\n",
    "df = pd.read_json('data/log_data/2018/11/2018-11-18-events.json', lines=True)\n",
    "df"
   ]
  },
  {
   "cell_type": "markdown",
   "id": "bfc2b811",
   "metadata": {},
   "source": [
    "## Log_Data "
   ]
  },
  {
   "cell_type": "code",
   "execution_count": null,
   "id": "33b51d53",
   "metadata": {},
   "outputs": [],
   "source": [
    "df = pd.read_json('data/song_data/A/A/A/TRAAAAW128F429D538.json', lines=True)\n",
    "df"
   ]
  }
 ],
 "metadata": {
  "kernelspec": {
   "display_name": "Python 3",
   "language": "python",
   "name": "python3"
  },
  "language_info": {
   "codemirror_mode": {
    "name": "ipython",
    "version": 3
   },
   "file_extension": ".py",
   "mimetype": "text/x-python",
   "name": "python",
   "nbconvert_exporter": "python",
   "pygments_lexer": "ipython3",
   "version": "3.7.10"
  }
 },
 "nbformat": 4,
 "nbformat_minor": 5
}
